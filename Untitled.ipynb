{
 "cells": [
  {
   "cell_type": "code",
   "execution_count": 1,
   "metadata": {},
   "outputs": [],
   "source": [
    "import requests\n",
    "import random\n",
    "import time\n",
    "from datetime import datetime\n",
    "from bs4 import BeautifulSoup"
   ]
  },
  {
   "cell_type": "code",
   "execution_count": 2,
   "metadata": {},
   "outputs": [],
   "source": [
    "class Crawler:\n",
    "    pttUrl = \"https://www.ptt.cc\"\n",
    "    \n",
    "    def __init__(self, board):\n",
    "        self.boars = board\n",
    "        self.Articles = []\n",
    "        self.boardUrl = \"/bbs/{}\".format(board)\n",
    "        self.contents = []\n",
    "#         request = requests.get(Crawler.pttUrl + self.boardUrl, cookies = {\"over18\": \"1\"})\n",
    "#         if request.status_code == 404:\n",
    "#             print(\"No such board\")\n",
    "#             return\n",
    "#         pageText = crawler.pageText.split(\"r-list-sep\")[0]\n",
    "#         self.pageText = request.text\n",
    "    \n",
    "    def getToday(self, date=None, pageNext=None, keyword=None, num_posts=100):\n",
    "        if pageNext == None:\n",
    "            pageNext = self.boardUrl\n",
    "        \n",
    "        request = requests.get(Crawler.pttUrl + pageNext, cookies = {\"over18\":\"1\"})\n",
    "        time.sleep(random.random()*3)\n",
    "        if request.status_code == 404:\n",
    "            print(\"No such board\")\n",
    "            return\n",
    "        self.pageText = request.text\n",
    "        soup = BeautifulSoup(self.pageText, \"lxml\")\n",
    "        pageNext = soup.find(\"div\", \"btn-group btn-group-paging\").find_all(\"a\")[1].attrs[\"href\"]\n",
    "        if date == None:\n",
    "            date =  datetime(2020, 2, 12)\n",
    "        pageText = self.pageText.split(\"r-list-sep\")[0]\n",
    "        soup = BeautifulSoup(pageText, \"lxml\")\n",
    "        for post in soup.select(\"div.r-ent\"):\n",
    "            url = post.find(\"div\", \"title\").a\n",
    "            if url == None:\n",
    "                continue\n",
    "            else:\n",
    "                url = post.find(\"div\", \"title\").a.attrs[\"href\"]\n",
    "            articleTxt = requests.get(Crawler.pttUrl + url, cookies = {\"over18\": \"1\"}).text\n",
    "            articleSoup = BeautifulSoup(articleTxt, \"lxml\")\n",
    "            title = articleSoup.find(\"title\").text #標題\n",
    "            content = articleSoup.find(\"meta\", property=\"og:description\").get(\"content\") #文章內容\n",
    "            if title == None or content == None:\n",
    "                continue\n",
    "            print(Crawler.pttUrl + url)\n",
    "#             print(type(title))\n",
    "            self.contents.append(title + \":\" + content)\n",
    "#             self.contents.append(content)\n",
    "            push_list = []\n",
    "            for push in articleSoup.find_all(\"span\", class_=\"push-content\"):\n",
    "                if len(push.text[2:]) <= 0:\n",
    "                    continue\n",
    "                push_list.append(push.text[2:]) #推文\n",
    "            self.contents.append(push_list)\n",
    "            time_str = post.find(\"div\", \"date\").text.strip()\n",
    "            time_obj = datetime.strptime(time_str+\"/2020\", '%m/%d/%Y')\n",
    "            #if True: #一篇文章\n",
    "            if time_obj < date: #不是今天的文章\n",
    "                return\n",
    "        else:\n",
    "            if len(self.contents)/2 > num_posts:\n",
    "                return\n",
    "            print(pageNext)\n",
    "            self.getToday(date, pageNext, keyword, num_posts)"
   ]
  },
  {
   "cell_type": "code",
   "execution_count": 3,
   "metadata": {},
   "outputs": [
    {
     "name": "stdout",
     "output_type": "stream",
     "text": [
      "https://www.ptt.cc/bbs/Gossiping/M.1606374270.A.F5A.html\n",
      "https://www.ptt.cc/bbs/Gossiping/M.1606374273.A.087.html\n",
      "https://www.ptt.cc/bbs/Gossiping/M.1606374333.A.51D.html\n",
      "https://www.ptt.cc/bbs/Gossiping/M.1606374352.A.BBD.html\n",
      "https://www.ptt.cc/bbs/Gossiping/M.1606374419.A.86F.html\n",
      "https://www.ptt.cc/bbs/Gossiping/M.1606374496.A.14F.html\n",
      "https://www.ptt.cc/bbs/Gossiping/M.1606374585.A.017.html\n",
      "https://www.ptt.cc/bbs/Gossiping/M.1606374629.A.EF6.html\n",
      "https://www.ptt.cc/bbs/Gossiping/M.1606374716.A.D9F.html\n",
      "/bbs/Gossiping/index39218.html\n",
      "https://www.ptt.cc/bbs/Gossiping/M.1606373375.A.AEB.html\n",
      "https://www.ptt.cc/bbs/Gossiping/M.1606373410.A.C80.html\n",
      "https://www.ptt.cc/bbs/Gossiping/M.1606373414.A.E88.html\n",
      "https://www.ptt.cc/bbs/Gossiping/M.1606373457.A.E39.html\n",
      "https://www.ptt.cc/bbs/Gossiping/M.1606373464.A.E51.html\n",
      "https://www.ptt.cc/bbs/Gossiping/M.1606373591.A.351.html\n",
      "https://www.ptt.cc/bbs/Gossiping/M.1606373721.A.096.html\n",
      "https://www.ptt.cc/bbs/Gossiping/M.1606373730.A.5BC.html\n",
      "https://www.ptt.cc/bbs/Gossiping/M.1606373736.A.D70.html\n",
      "https://www.ptt.cc/bbs/Gossiping/M.1606373788.A.CD7.html\n",
      "https://www.ptt.cc/bbs/Gossiping/M.1606373827.A.878.html\n",
      "https://www.ptt.cc/bbs/Gossiping/M.1606373944.A.EE7.html\n",
      "https://www.ptt.cc/bbs/Gossiping/M.1606373949.A.414.html\n",
      "https://www.ptt.cc/bbs/Gossiping/M.1606374051.A.0D1.html\n",
      "https://www.ptt.cc/bbs/Gossiping/M.1606374129.A.129.html\n",
      "https://www.ptt.cc/bbs/Gossiping/M.1606374132.A.5DC.html\n",
      "https://www.ptt.cc/bbs/Gossiping/M.1606374142.A.F46.html\n",
      "https://www.ptt.cc/bbs/Gossiping/M.1606374202.A.85A.html\n",
      "https://www.ptt.cc/bbs/Gossiping/M.1606374228.A.335.html\n"
     ]
    }
   ],
   "source": [
    "board = \"gossiping\"\n",
    "crawler = Crawler(board)\n",
    "crawler.getToday(keyword=\"陳時中\", num_posts=10)"
   ]
  },
  {
   "cell_type": "code",
   "execution_count": 4,
   "metadata": {},
   "outputs": [
    {
     "name": "stdout",
     "output_type": "stream",
     "text": [
      "56\n"
     ]
    }
   ],
   "source": [
    "print(len(crawler.contents))"
   ]
  },
  {
   "cell_type": "code",
   "execution_count": 15,
   "metadata": {},
   "outputs": [
    {
     "ename": "FileNotFoundError",
     "evalue": "[Errno 2] No such file or directory: '.\\\\data\\\\embedding_character\\\\token_list.npy'",
     "output_type": "error",
     "traceback": [
      "\u001b[1;31m---------------------------------------------------------------------------\u001b[0m",
      "\u001b[1;31mFileNotFoundError\u001b[0m                         Traceback (most recent call last)",
      "\u001b[1;32m<ipython-input-15-a49e900540ef>\u001b[0m in \u001b[0;36m<module>\u001b[1;34m\u001b[0m\n\u001b[0;32m     12\u001b[0m \u001b[1;31m# tf.compat.v1.logging.set_verbosity(tf.compat.v1.logging.ERROR)\u001b[0m\u001b[1;33m\u001b[0m\u001b[1;33m\u001b[0m\u001b[1;33m\u001b[0m\u001b[0m\n\u001b[0;32m     13\u001b[0m \u001b[0mos\u001b[0m\u001b[1;33m.\u001b[0m\u001b[0menviron\u001b[0m\u001b[1;33m[\u001b[0m\u001b[1;34m\"CUDA_VISIBLE_DEVICES\"\u001b[0m\u001b[1;33m]\u001b[0m \u001b[1;33m=\u001b[0m \u001b[1;34m\"0\"\u001b[0m\u001b[1;33m\u001b[0m\u001b[1;33m\u001b[0m\u001b[0m\n\u001b[1;32m---> 14\u001b[1;33m \u001b[0mws\u001b[0m \u001b[1;33m=\u001b[0m \u001b[0mWS\u001b[0m\u001b[1;33m(\u001b[0m\u001b[1;34m\".\\\\data\"\u001b[0m\u001b[1;33m,\u001b[0m \u001b[0mdisable_cuda\u001b[0m\u001b[1;33m=\u001b[0m\u001b[1;32mFalse\u001b[0m\u001b[1;33m)\u001b[0m\u001b[1;33m\u001b[0m\u001b[1;33m\u001b[0m\u001b[0m\n\u001b[0m\u001b[0;32m     15\u001b[0m \u001b[0mpos\u001b[0m \u001b[1;33m=\u001b[0m \u001b[0mPOS\u001b[0m\u001b[1;33m(\u001b[0m\u001b[1;34m\".\\\\data\"\u001b[0m\u001b[1;33m,\u001b[0m \u001b[0mdisable_cuda\u001b[0m\u001b[1;33m=\u001b[0m\u001b[1;32mFalse\u001b[0m\u001b[1;33m)\u001b[0m\u001b[1;33m\u001b[0m\u001b[1;33m\u001b[0m\u001b[0m\n\u001b[0;32m     16\u001b[0m \u001b[0mner\u001b[0m \u001b[1;33m=\u001b[0m \u001b[0mNER\u001b[0m\u001b[1;33m(\u001b[0m\u001b[1;34m\".\\\\data\"\u001b[0m\u001b[1;33m,\u001b[0m \u001b[0mdisable_cuda\u001b[0m\u001b[1;33m=\u001b[0m\u001b[1;32mFalse\u001b[0m\u001b[1;33m)\u001b[0m\u001b[1;33m\u001b[0m\u001b[1;33m\u001b[0m\u001b[0m\n",
      "\u001b[1;32m~\\Anaconda3\\lib\\site-packages\\ckiptagger\\api.py\u001b[0m in \u001b[0;36m__init__\u001b[1;34m(self, data_dir, disable_cuda)\u001b[0m\n\u001b[0;32m     40\u001b[0m         \u001b[0mconfig\u001b[0m\u001b[1;33m.\u001b[0m\u001b[0mlayers\u001b[0m \u001b[1;33m=\u001b[0m \u001b[1;36m2\u001b[0m\u001b[1;33m\u001b[0m\u001b[1;33m\u001b[0m\u001b[0m\n\u001b[0;32m     41\u001b[0m         \u001b[0mconfig\u001b[0m\u001b[1;33m.\u001b[0m\u001b[0mhidden_d\u001b[0m \u001b[1;33m=\u001b[0m \u001b[1;36m500\u001b[0m\u001b[1;33m\u001b[0m\u001b[1;33m\u001b[0m\u001b[0m\n\u001b[1;32m---> 42\u001b[1;33m         \u001b[0mconfig\u001b[0m\u001b[1;33m.\u001b[0m\u001b[0mw_token_to_vector\u001b[0m\u001b[1;33m,\u001b[0m \u001b[0mconfig\u001b[0m\u001b[1;33m.\u001b[0m\u001b[0mw_embedding_d\u001b[0m \u001b[1;33m=\u001b[0m \u001b[0m_load_embedding\u001b[0m\u001b[1;33m(\u001b[0m\u001b[0mos\u001b[0m\u001b[1;33m.\u001b[0m\u001b[0mpath\u001b[0m\u001b[1;33m.\u001b[0m\u001b[0mjoin\u001b[0m\u001b[1;33m(\u001b[0m\u001b[0mdata_dir\u001b[0m\u001b[1;33m,\u001b[0m \u001b[1;34m\"embedding_character\"\u001b[0m\u001b[1;33m)\u001b[0m\u001b[1;33m)\u001b[0m\u001b[1;33m\u001b[0m\u001b[1;33m\u001b[0m\u001b[0m\n\u001b[0m\u001b[0;32m     43\u001b[0m \u001b[1;33m\u001b[0m\u001b[0m\n\u001b[0;32m     44\u001b[0m         \u001b[1;32mif\u001b[0m \u001b[0mdisable_cuda\u001b[0m\u001b[1;33m:\u001b[0m\u001b[1;33m\u001b[0m\u001b[1;33m\u001b[0m\u001b[0m\n",
      "\u001b[1;32m~\\Anaconda3\\lib\\site-packages\\ckiptagger\\api.py\u001b[0m in \u001b[0;36m_load_embedding\u001b[1;34m(embedding_dir)\u001b[0m\n\u001b[0;32m    352\u001b[0m \u001b[1;32mdef\u001b[0m \u001b[0m_load_embedding\u001b[0m\u001b[1;33m(\u001b[0m\u001b[0membedding_dir\u001b[0m\u001b[1;33m)\u001b[0m\u001b[1;33m:\u001b[0m\u001b[1;33m\u001b[0m\u001b[1;33m\u001b[0m\u001b[0m\n\u001b[0;32m    353\u001b[0m     \u001b[0mtoken_file\u001b[0m \u001b[1;33m=\u001b[0m \u001b[0mos\u001b[0m\u001b[1;33m.\u001b[0m\u001b[0mpath\u001b[0m\u001b[1;33m.\u001b[0m\u001b[0mjoin\u001b[0m\u001b[1;33m(\u001b[0m\u001b[0membedding_dir\u001b[0m\u001b[1;33m,\u001b[0m \u001b[1;34m\"token_list.npy\"\u001b[0m\u001b[1;33m)\u001b[0m\u001b[1;33m\u001b[0m\u001b[1;33m\u001b[0m\u001b[0m\n\u001b[1;32m--> 354\u001b[1;33m     \u001b[0mtoken_list\u001b[0m \u001b[1;33m=\u001b[0m \u001b[0mnp\u001b[0m\u001b[1;33m.\u001b[0m\u001b[0mload\u001b[0m\u001b[1;33m(\u001b[0m\u001b[0mtoken_file\u001b[0m\u001b[1;33m)\u001b[0m\u001b[1;33m\u001b[0m\u001b[1;33m\u001b[0m\u001b[0m\n\u001b[0m\u001b[0;32m    355\u001b[0m \u001b[1;33m\u001b[0m\u001b[0m\n\u001b[0;32m    356\u001b[0m     \u001b[0mvector_file\u001b[0m \u001b[1;33m=\u001b[0m \u001b[0mos\u001b[0m\u001b[1;33m.\u001b[0m\u001b[0mpath\u001b[0m\u001b[1;33m.\u001b[0m\u001b[0mjoin\u001b[0m\u001b[1;33m(\u001b[0m\u001b[0membedding_dir\u001b[0m\u001b[1;33m,\u001b[0m \u001b[1;34m\"vector_list.npy\"\u001b[0m\u001b[1;33m)\u001b[0m\u001b[1;33m\u001b[0m\u001b[1;33m\u001b[0m\u001b[0m\n",
      "\u001b[1;32m~\\Anaconda3\\lib\\site-packages\\numpy\\lib\\npyio.py\u001b[0m in \u001b[0;36mload\u001b[1;34m(file, mmap_mode, allow_pickle, fix_imports, encoding)\u001b[0m\n\u001b[0;32m    382\u001b[0m     \u001b[0mStore\u001b[0m \u001b[0mcompressed\u001b[0m \u001b[0mdata\u001b[0m \u001b[0mto\u001b[0m \u001b[0mdisk\u001b[0m\u001b[1;33m,\u001b[0m \u001b[1;32mand\u001b[0m \u001b[0mload\u001b[0m \u001b[0mit\u001b[0m \u001b[0magain\u001b[0m\u001b[1;33m:\u001b[0m\u001b[1;33m\u001b[0m\u001b[1;33m\u001b[0m\u001b[0m\n\u001b[0;32m    383\u001b[0m \u001b[1;33m\u001b[0m\u001b[0m\n\u001b[1;32m--> 384\u001b[1;33m     \u001b[1;33m>>\u001b[0m\u001b[1;33m>\u001b[0m \u001b[0ma\u001b[0m\u001b[1;33m=\u001b[0m\u001b[0mnp\u001b[0m\u001b[1;33m.\u001b[0m\u001b[0marray\u001b[0m\u001b[1;33m(\u001b[0m\u001b[1;33m[\u001b[0m\u001b[1;33m[\u001b[0m\u001b[1;36m1\u001b[0m\u001b[1;33m,\u001b[0m \u001b[1;36m2\u001b[0m\u001b[1;33m,\u001b[0m \u001b[1;36m3\u001b[0m\u001b[1;33m]\u001b[0m\u001b[1;33m,\u001b[0m \u001b[1;33m[\u001b[0m\u001b[1;36m4\u001b[0m\u001b[1;33m,\u001b[0m \u001b[1;36m5\u001b[0m\u001b[1;33m,\u001b[0m \u001b[1;36m6\u001b[0m\u001b[1;33m]\u001b[0m\u001b[1;33m]\u001b[0m\u001b[1;33m)\u001b[0m\u001b[1;33m\u001b[0m\u001b[1;33m\u001b[0m\u001b[0m\n\u001b[0m\u001b[0;32m    385\u001b[0m     \u001b[1;33m>>\u001b[0m\u001b[1;33m>\u001b[0m \u001b[0mb\u001b[0m\u001b[1;33m=\u001b[0m\u001b[0mnp\u001b[0m\u001b[1;33m.\u001b[0m\u001b[0marray\u001b[0m\u001b[1;33m(\u001b[0m\u001b[1;33m[\u001b[0m\u001b[1;36m1\u001b[0m\u001b[1;33m,\u001b[0m \u001b[1;36m2\u001b[0m\u001b[1;33m]\u001b[0m\u001b[1;33m)\u001b[0m\u001b[1;33m\u001b[0m\u001b[1;33m\u001b[0m\u001b[0m\n\u001b[0;32m    386\u001b[0m     \u001b[1;33m>>\u001b[0m\u001b[1;33m>\u001b[0m \u001b[0mnp\u001b[0m\u001b[1;33m.\u001b[0m\u001b[0msavez\u001b[0m\u001b[1;33m(\u001b[0m\u001b[1;34m'/tmp/123.npz'\u001b[0m\u001b[1;33m,\u001b[0m \u001b[0ma\u001b[0m\u001b[1;33m=\u001b[0m\u001b[0ma\u001b[0m\u001b[1;33m,\u001b[0m \u001b[0mb\u001b[0m\u001b[1;33m=\u001b[0m\u001b[0mb\u001b[0m\u001b[1;33m)\u001b[0m\u001b[1;33m\u001b[0m\u001b[1;33m\u001b[0m\u001b[0m\n",
      "\u001b[1;31mFileNotFoundError\u001b[0m: [Errno 2] No such file or directory: '.\\\\data\\\\embedding_character\\\\token_list.npy'"
     ]
    }
   ],
   "source": [
    "import os\n",
    "import sys\n",
    "import tensorflow as tf\n",
    "from ckiptagger import data_utils, construct_dictionary, WS, POS, NER\n",
    "\n",
    "\n",
    "# Suppress as many warnings as possible\n",
    "# os.environ[\"TF_CPP_MIN_LOG_LEVEL\"] = \"3\"\n",
    "# from tensorflow.python.util import deprecation\n",
    "# deprecation._PRINT_DEPRECATION_WARNINGS = False\n",
    "# import tensorflow as tf\n",
    "# tf.compat.v1.logging.set_verbosity(tf.compat.v1.logging.ERROR)\n",
    "os.environ[\"CUDA_VISIBLE_DEVICES\"] = \"0\"\n",
    "ws = WS(\".\\\\data\", disable_cuda=False)\n",
    "pos = POS(\".\\\\data\", disable_cuda=False)\n",
    "ner = NER(\".\\\\data\", disable_cuda=False)"
   ]
  },
  {
   "cell_type": "code",
   "execution_count": null,
   "metadata": {},
   "outputs": [],
   "source": []
  }
 ],
 "metadata": {
  "kernelspec": {
   "display_name": "Python 3",
   "language": "python",
   "name": "python3"
  },
  "language_info": {
   "codemirror_mode": {
    "name": "ipython",
    "version": 3
   },
   "file_extension": ".py",
   "mimetype": "text/x-python",
   "name": "python",
   "nbconvert_exporter": "python",
   "pygments_lexer": "ipython3",
   "version": "3.7.1"
  }
 },
 "nbformat": 4,
 "nbformat_minor": 2
}
