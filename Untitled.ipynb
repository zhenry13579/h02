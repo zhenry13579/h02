{
 "cells": [
  {
   "cell_type": "code",
   "execution_count": 1,
   "metadata": {},
   "outputs": [],
   "source": [
    "import requests\n",
    "import random\n",
    "import time\n",
    "from datetime import datetime\n",
    "from bs4 import BeautifulSoup"
   ]
  },
  {
   "cell_type": "code",
   "execution_count": 2,
   "metadata": {},
   "outputs": [],
   "source": [
    "class Crawler:\n",
    "    pttUrl = \"https://www.ptt.cc\"\n",
    "    \n",
    "    def __init__(self, board):\n",
    "        self.boars = board\n",
    "        self.Articles = []\n",
    "        self.boardUrl = \"/bbs/{}\".format(board)\n",
    "        self.contents = []\n",
    "#         request = requests.get(Crawler.pttUrl + self.boardUrl, cookies = {\"over18\": \"1\"})\n",
    "#         if request.status_code == 404:\n",
    "#             print(\"No such board\")\n",
    "#             return\n",
    "#         pageText = crawler.pageText.split(\"r-list-sep\")[0]\n",
    "#         self.pageText = request.text\n",
    "    \n",
    "    def getToday(self, date=None, pageNext=None, keyword=None, num_posts=100):\n",
    "        if pageNext == None:\n",
    "            pageNext = self.boardUrl\n",
    "        \n",
    "        request = requests.get(Crawler.pttUrl + pageNext, cookies = {\"over18\":\"1\"})\n",
    "        time.sleep(random.random()*3)\n",
    "        if request.status_code == 404:\n",
    "            print(\"No such board\")\n",
    "            return\n",
    "        self.pageText = request.text\n",
    "        soup = BeautifulSoup(self.pageText, \"lxml\")\n",
    "        pageNext = soup.find(\"div\", \"btn-group btn-group-paging\").find_all(\"a\")[1].attrs[\"href\"]\n",
    "        if date == None:\n",
    "            date =  datetime(2020, 2, 12)\n",
    "        pageText = self.pageText.split(\"r-list-sep\")[0]\n",
    "        soup = BeautifulSoup(pageText, \"lxml\")\n",
    "        for post in soup.select(\"div.r-ent\"):\n",
    "            url = post.find(\"div\", \"title\").a\n",
    "            if url == None:\n",
    "                continue\n",
    "            else:\n",
    "                url = post.find(\"div\", \"title\").a.attrs[\"href\"]\n",
    "            articleTxt = requests.get(Crawler.pttUrl + url, cookies = {\"over18\": \"1\"}).text\n",
    "            articleSoup = BeautifulSoup(articleTxt, \"lxml\")\n",
    "            title = articleSoup.find(\"title\").text #標題\n",
    "            content = articleSoup.find(\"meta\", property=\"og:description\").get(\"content\") #文章內容\n",
    "            if title == None or content == None:\n",
    "                continue\n",
    "            print(Crawler.pttUrl + url)\n",
    "#             print(type(title))\n",
    "            self.contents.append(title + \":\" + content)\n",
    "#             self.contents.append(content)\n",
    "            push_list = []\n",
    "            for push in articleSoup.find_all(\"span\", class_=\"push-content\"):\n",
    "                if len(push.text[2:]) <= 0:\n",
    "                    continue\n",
    "                push_list.append(push.text[2:]) #推文\n",
    "            self.contents.append(push_list)\n",
    "            time_str = post.find(\"div\", \"date\").text.strip()\n",
    "            time_obj = datetime.strptime(time_str+\"/2020\", '%m/%d/%Y')\n",
    "            #if True: #一篇文章\n",
    "            if time_obj < date: #不是今天的文章\n",
    "                return\n",
    "        else:\n",
    "            if len(self.contents)/2 > num_posts:\n",
    "                return\n",
    "            print(pageNext)\n",
    "            self.getToday(date, pageNext, keyword, num_posts)"
   ]
  },
  {
   "cell_type": "code",
   "execution_count": 3,
   "metadata": {},
   "outputs": [
    {
     "name": "stdout",
     "output_type": "stream",
     "text": [
      "https://www.ptt.cc/bbs/Gossiping/M.1606372720.A.68F.html\n",
      "https://www.ptt.cc/bbs/Gossiping/M.1606372745.A.489.html\n",
      "https://www.ptt.cc/bbs/Gossiping/M.1606372759.A.EA4.html\n",
      "https://www.ptt.cc/bbs/Gossiping/M.1606372789.A.13F.html\n",
      "https://www.ptt.cc/bbs/Gossiping/M.1606372800.A.CA1.html\n",
      "https://www.ptt.cc/bbs/Gossiping/M.1606372815.A.BE1.html\n",
      "/bbs/Gossiping/index39216.html\n",
      "https://www.ptt.cc/bbs/Gossiping/M.1606371929.A.BBF.html\n",
      "https://www.ptt.cc/bbs/Gossiping/M.1606371988.A.5DD.html\n",
      "https://www.ptt.cc/bbs/Gossiping/M.1606372001.A.BDD.html\n",
      "https://www.ptt.cc/bbs/Gossiping/M.1606372030.A.0D2.html\n",
      "https://www.ptt.cc/bbs/Gossiping/M.1606372081.A.691.html\n",
      "https://www.ptt.cc/bbs/Gossiping/M.1606372102.A.60F.html\n",
      "https://www.ptt.cc/bbs/Gossiping/M.1606372112.A.383.html\n",
      "https://www.ptt.cc/bbs/Gossiping/M.1606372222.A.CA9.html\n",
      "https://www.ptt.cc/bbs/Gossiping/M.1606372334.A.830.html\n",
      "https://www.ptt.cc/bbs/Gossiping/M.1606372334.A.A2B.html\n",
      "https://www.ptt.cc/bbs/Gossiping/M.1606372352.A.7F9.html\n",
      "https://www.ptt.cc/bbs/Gossiping/M.1606372365.A.552.html\n",
      "https://www.ptt.cc/bbs/Gossiping/M.1606372380.A.7B8.html\n",
      "https://www.ptt.cc/bbs/Gossiping/M.1606372414.A.E0B.html\n",
      "https://www.ptt.cc/bbs/Gossiping/M.1606372489.A.121.html\n",
      "https://www.ptt.cc/bbs/Gossiping/M.1606372551.A.303.html\n",
      "https://www.ptt.cc/bbs/Gossiping/M.1606372570.A.B88.html\n",
      "https://www.ptt.cc/bbs/Gossiping/M.1606372624.A.D54.html\n",
      "https://www.ptt.cc/bbs/Gossiping/M.1606372715.A.55C.html\n"
     ]
    }
   ],
   "source": [
    "board = \"gossiping\"\n",
    "crawler = Crawler(board)\n",
    "crawler.getToday(keyword=\"陳時中\", num_posts=10)"
   ]
  },
  {
   "cell_type": "code",
   "execution_count": 4,
   "metadata": {},
   "outputs": [
    {
     "name": "stdout",
     "output_type": "stream",
     "text": [
      "50\n"
     ]
    }
   ],
   "source": [
    "print(len(crawler.contents))"
   ]
  },
  {
   "cell_type": "code",
   "execution_count": 5,
   "metadata": {},
   "outputs": [
    {
     "name": "stdout",
     "output_type": "stream",
     "text": [
      "Requirement already satisfied: ckiptagger in c:\\users\\user\\anaconda3\\lib\\site-packages (0.2.1)\n"
     ]
    }
   ],
   "source": [
    "! pip install ckiptagger"
   ]
  },
  {
   "cell_type": "code",
   "execution_count": 6,
   "metadata": {},
   "outputs": [
    {
     "ename": "FileNotFoundError",
     "evalue": "[Errno 2] No such file or directory: './data\\\\embedding_character\\\\token_list.npy'",
     "output_type": "error",
     "traceback": [
      "\u001b[1;31m---------------------------------------------------------------------------\u001b[0m",
      "\u001b[1;31mFileNotFoundError\u001b[0m                         Traceback (most recent call last)",
      "\u001b[1;32m<ipython-input-6-4ff84b3649b1>\u001b[0m in \u001b[0;36m<module>\u001b[1;34m\u001b[0m\n\u001b[0;32m     11\u001b[0m \u001b[1;31m# tf.compat.v1.logging.set_verbosity(tf.compat.v1.logging.ERROR)\u001b[0m\u001b[1;33m\u001b[0m\u001b[1;33m\u001b[0m\u001b[1;33m\u001b[0m\u001b[0m\n\u001b[0;32m     12\u001b[0m \u001b[0mos\u001b[0m\u001b[1;33m.\u001b[0m\u001b[0menviron\u001b[0m\u001b[1;33m[\u001b[0m\u001b[1;34m\"CUDA_VISIBLE_DEVICES\"\u001b[0m\u001b[1;33m]\u001b[0m \u001b[1;33m=\u001b[0m \u001b[1;34m\"0\"\u001b[0m\u001b[1;33m\u001b[0m\u001b[1;33m\u001b[0m\u001b[0m\n\u001b[1;32m---> 13\u001b[1;33m \u001b[0mws\u001b[0m \u001b[1;33m=\u001b[0m \u001b[0mWS\u001b[0m\u001b[1;33m(\u001b[0m\u001b[1;34m\"./data\"\u001b[0m\u001b[1;33m,\u001b[0m \u001b[0mdisable_cuda\u001b[0m\u001b[1;33m=\u001b[0m\u001b[1;32mFalse\u001b[0m\u001b[1;33m)\u001b[0m\u001b[1;33m\u001b[0m\u001b[1;33m\u001b[0m\u001b[0m\n\u001b[0m\u001b[0;32m     14\u001b[0m \u001b[0mpos\u001b[0m \u001b[1;33m=\u001b[0m \u001b[0mPOS\u001b[0m\u001b[1;33m(\u001b[0m\u001b[1;34m\"./data\"\u001b[0m\u001b[1;33m,\u001b[0m \u001b[0mdisable_cuda\u001b[0m\u001b[1;33m=\u001b[0m\u001b[1;32mFalse\u001b[0m\u001b[1;33m)\u001b[0m\u001b[1;33m\u001b[0m\u001b[1;33m\u001b[0m\u001b[0m\n\u001b[0;32m     15\u001b[0m \u001b[0mner\u001b[0m \u001b[1;33m=\u001b[0m \u001b[0mNER\u001b[0m\u001b[1;33m(\u001b[0m\u001b[1;34m\"./data\"\u001b[0m\u001b[1;33m,\u001b[0m \u001b[0mdisable_cuda\u001b[0m\u001b[1;33m=\u001b[0m\u001b[1;32mFalse\u001b[0m\u001b[1;33m)\u001b[0m\u001b[1;33m\u001b[0m\u001b[1;33m\u001b[0m\u001b[0m\n",
      "\u001b[1;32m~\\Anaconda3\\lib\\site-packages\\ckiptagger\\api.py\u001b[0m in \u001b[0;36m__init__\u001b[1;34m(self, data_dir, disable_cuda)\u001b[0m\n\u001b[0;32m     40\u001b[0m         \u001b[0mconfig\u001b[0m\u001b[1;33m.\u001b[0m\u001b[0mlayers\u001b[0m \u001b[1;33m=\u001b[0m \u001b[1;36m2\u001b[0m\u001b[1;33m\u001b[0m\u001b[1;33m\u001b[0m\u001b[0m\n\u001b[0;32m     41\u001b[0m         \u001b[0mconfig\u001b[0m\u001b[1;33m.\u001b[0m\u001b[0mhidden_d\u001b[0m \u001b[1;33m=\u001b[0m \u001b[1;36m500\u001b[0m\u001b[1;33m\u001b[0m\u001b[1;33m\u001b[0m\u001b[0m\n\u001b[1;32m---> 42\u001b[1;33m         \u001b[0mconfig\u001b[0m\u001b[1;33m.\u001b[0m\u001b[0mw_token_to_vector\u001b[0m\u001b[1;33m,\u001b[0m \u001b[0mconfig\u001b[0m\u001b[1;33m.\u001b[0m\u001b[0mw_embedding_d\u001b[0m \u001b[1;33m=\u001b[0m \u001b[0m_load_embedding\u001b[0m\u001b[1;33m(\u001b[0m\u001b[0mos\u001b[0m\u001b[1;33m.\u001b[0m\u001b[0mpath\u001b[0m\u001b[1;33m.\u001b[0m\u001b[0mjoin\u001b[0m\u001b[1;33m(\u001b[0m\u001b[0mdata_dir\u001b[0m\u001b[1;33m,\u001b[0m \u001b[1;34m\"embedding_character\"\u001b[0m\u001b[1;33m)\u001b[0m\u001b[1;33m)\u001b[0m\u001b[1;33m\u001b[0m\u001b[1;33m\u001b[0m\u001b[0m\n\u001b[0m\u001b[0;32m     43\u001b[0m \u001b[1;33m\u001b[0m\u001b[0m\n\u001b[0;32m     44\u001b[0m         \u001b[1;32mif\u001b[0m \u001b[0mdisable_cuda\u001b[0m\u001b[1;33m:\u001b[0m\u001b[1;33m\u001b[0m\u001b[1;33m\u001b[0m\u001b[0m\n",
      "\u001b[1;32m~\\Anaconda3\\lib\\site-packages\\ckiptagger\\api.py\u001b[0m in \u001b[0;36m_load_embedding\u001b[1;34m(embedding_dir)\u001b[0m\n\u001b[0;32m    352\u001b[0m \u001b[1;32mdef\u001b[0m \u001b[0m_load_embedding\u001b[0m\u001b[1;33m(\u001b[0m\u001b[0membedding_dir\u001b[0m\u001b[1;33m)\u001b[0m\u001b[1;33m:\u001b[0m\u001b[1;33m\u001b[0m\u001b[1;33m\u001b[0m\u001b[0m\n\u001b[0;32m    353\u001b[0m     \u001b[0mtoken_file\u001b[0m \u001b[1;33m=\u001b[0m \u001b[0mos\u001b[0m\u001b[1;33m.\u001b[0m\u001b[0mpath\u001b[0m\u001b[1;33m.\u001b[0m\u001b[0mjoin\u001b[0m\u001b[1;33m(\u001b[0m\u001b[0membedding_dir\u001b[0m\u001b[1;33m,\u001b[0m \u001b[1;34m\"token_list.npy\"\u001b[0m\u001b[1;33m)\u001b[0m\u001b[1;33m\u001b[0m\u001b[1;33m\u001b[0m\u001b[0m\n\u001b[1;32m--> 354\u001b[1;33m     \u001b[0mtoken_list\u001b[0m \u001b[1;33m=\u001b[0m \u001b[0mnp\u001b[0m\u001b[1;33m.\u001b[0m\u001b[0mload\u001b[0m\u001b[1;33m(\u001b[0m\u001b[0mtoken_file\u001b[0m\u001b[1;33m)\u001b[0m\u001b[1;33m\u001b[0m\u001b[1;33m\u001b[0m\u001b[0m\n\u001b[0m\u001b[0;32m    355\u001b[0m \u001b[1;33m\u001b[0m\u001b[0m\n\u001b[0;32m    356\u001b[0m     \u001b[0mvector_file\u001b[0m \u001b[1;33m=\u001b[0m \u001b[0mos\u001b[0m\u001b[1;33m.\u001b[0m\u001b[0mpath\u001b[0m\u001b[1;33m.\u001b[0m\u001b[0mjoin\u001b[0m\u001b[1;33m(\u001b[0m\u001b[0membedding_dir\u001b[0m\u001b[1;33m,\u001b[0m \u001b[1;34m\"vector_list.npy\"\u001b[0m\u001b[1;33m)\u001b[0m\u001b[1;33m\u001b[0m\u001b[1;33m\u001b[0m\u001b[0m\n",
      "\u001b[1;32m~\\Anaconda3\\lib\\site-packages\\numpy\\lib\\npyio.py\u001b[0m in \u001b[0;36mload\u001b[1;34m(file, mmap_mode, allow_pickle, fix_imports, encoding)\u001b[0m\n\u001b[0;32m    382\u001b[0m     \u001b[0mown_fid\u001b[0m \u001b[1;33m=\u001b[0m \u001b[1;32mFalse\u001b[0m\u001b[1;33m\u001b[0m\u001b[1;33m\u001b[0m\u001b[0m\n\u001b[0;32m    383\u001b[0m     \u001b[1;32mif\u001b[0m \u001b[0misinstance\u001b[0m\u001b[1;33m(\u001b[0m\u001b[0mfile\u001b[0m\u001b[1;33m,\u001b[0m \u001b[0mbasestring\u001b[0m\u001b[1;33m)\u001b[0m\u001b[1;33m:\u001b[0m\u001b[1;33m\u001b[0m\u001b[1;33m\u001b[0m\u001b[0m\n\u001b[1;32m--> 384\u001b[1;33m         \u001b[0mfid\u001b[0m \u001b[1;33m=\u001b[0m \u001b[0mopen\u001b[0m\u001b[1;33m(\u001b[0m\u001b[0mfile\u001b[0m\u001b[1;33m,\u001b[0m \u001b[1;34m\"rb\"\u001b[0m\u001b[1;33m)\u001b[0m\u001b[1;33m\u001b[0m\u001b[1;33m\u001b[0m\u001b[0m\n\u001b[0m\u001b[0;32m    385\u001b[0m         \u001b[0mown_fid\u001b[0m \u001b[1;33m=\u001b[0m \u001b[1;32mTrue\u001b[0m\u001b[1;33m\u001b[0m\u001b[1;33m\u001b[0m\u001b[0m\n\u001b[0;32m    386\u001b[0m     \u001b[1;32melif\u001b[0m \u001b[0mis_pathlib_path\u001b[0m\u001b[1;33m(\u001b[0m\u001b[0mfile\u001b[0m\u001b[1;33m)\u001b[0m\u001b[1;33m:\u001b[0m\u001b[1;33m\u001b[0m\u001b[1;33m\u001b[0m\u001b[0m\n",
      "\u001b[1;31mFileNotFoundError\u001b[0m: [Errno 2] No such file or directory: './data\\\\embedding_character\\\\token_list.npy'"
     ]
    }
   ],
   "source": [
    "import tensorflow as tf\n",
    "from ckiptagger import data_utils, construct_dictionary, WS, POS, NER\n",
    "\n",
    "import os\n",
    "import sys\n",
    "# Suppress as many warnings as possible\n",
    "# os.environ[\"TF_CPP_MIN_LOG_LEVEL\"] = \"3\"\n",
    "# from tensorflow.python.util import deprecation\n",
    "# deprecation._PRINT_DEPRECATION_WARNINGS = False\n",
    "# import tensorflow as tf\n",
    "# tf.compat.v1.logging.set_verbosity(tf.compat.v1.logging.ERROR)\n",
    "os.environ[\"CUDA_VISIBLE_DEVICES\"] = \"0\"\n",
    "ws = WS(\"./data\", disable_cuda=False)\n",
    "pos = POS(\"./data\", disable_cuda=False)\n",
    "ner = NER(\"./data\", disable_cuda=False)"
   ]
  },
  {
   "cell_type": "code",
   "execution_count": null,
   "metadata": {},
   "outputs": [],
   "source": []
  }
 ],
 "metadata": {
  "kernelspec": {
   "display_name": "Python 3",
   "language": "python",
   "name": "python3"
  },
  "language_info": {
   "codemirror_mode": {
    "name": "ipython",
    "version": 3
   },
   "file_extension": ".py",
   "mimetype": "text/x-python",
   "name": "python",
   "nbconvert_exporter": "python",
   "pygments_lexer": "ipython3",
   "version": "3.7.1"
  }
 },
 "nbformat": 4,
 "nbformat_minor": 2
}
